{
 "cells": [
  {
   "cell_type": "code",
   "execution_count": null,
   "id": "56cfc24c",
   "metadata": {},
   "outputs": [
    {
     "name": "stdout",
     "output_type": "stream",
     "text": [
      "0.25\n"
     ]
    }
   ],
   "source": [
    "def raise_to(num, exp):\n",
    "    ans = 1\n",
    "    if exp == 0:\n",
    "        return 1\n",
    "    elif exp > 0:\n",
    "        while(exp > 0):\n",
    "            ans *= num\n",
    "            exp -=1\n",
    "    else:\n",
    "        while(exp < 0):\n",
    "            ans /= num\n",
    "            exp += 1 \n",
    "    return ans\n",
    "\n",
    "num, exp = 2, -2\n",
    "print(raise_to(num, exp))"
   ]
  },
  {
   "cell_type": "code",
   "execution_count": 85,
   "id": "25e1eedd",
   "metadata": {},
   "outputs": [
    {
     "name": "stdout",
     "output_type": "stream",
     "text": [
      "[3, 4]\n"
     ]
    }
   ],
   "source": [
    "lst1 = [1,2,3,4]\n",
    "lst2 = [3,4,5,6]\n",
    "\n",
    "\n",
    "def intersection(lst1, lst2):\n",
    "    ans = []\n",
    "    for num in lst1:\n",
    "        for val in lst2:\n",
    "            if val == num:\n",
    "                ans.append(num)\n",
    "                break\n",
    "    \n",
    "    return ans\n",
    "\n",
    "print(intersection(lst1, lst2))\n"
   ]
  },
  {
   "cell_type": "code",
   "execution_count": null,
   "id": "88b90b7f",
   "metadata": {},
   "outputs": [
    {
     "name": "stdout",
     "output_type": "stream",
     "text": [
      "[1, 2, 3, 4, 5, 6]\n"
     ]
    }
   ],
   "source": [
    "lst1 = [1,2,3,4]\n",
    "lst2 = [3,4,5,6]\n",
    "\n",
    "def is_in_list(num, lst):\n",
    "    for val in lst:\n",
    "        if val == num:\n",
    "            return True\n",
    "    return False\n",
    "\n",
    "def union(lst1,lst2):\n",
    "    ans = []\n",
    "    for num in lst1:\n",
    "        if is_in_list(num, ans): # method 1 for condition IF\n",
    "            pass # just to flex that you can use pass\n",
    "        else:\n",
    "            ans.append(num)\n",
    "\n",
    "    for num in lst2:\n",
    "        # if is_in_list(num, ans) == False: # method 2 (most popular)\n",
    "        if not is_in_list(num, ans): # method 3 (cheeky)\n",
    "            ans.append(num)\n",
    "            \n",
    "    return ans\n",
    "\n",
    "print(union(lst1,lst2))"
   ]
  },
  {
   "cell_type": "code",
   "execution_count": 97,
   "id": "6619f4bd",
   "metadata": {},
   "outputs": [
    {
     "name": "stdout",
     "output_type": "stream",
     "text": [
      "{1: 1, 2: 2, 3: 3, 4: 1}\n",
      "[3, 3]\n"
     ]
    }
   ],
   "source": [
    "lst = [1,2,3,4,2,3,3]\n",
    "\n",
    "dict = {}\n",
    "\n",
    "for num in lst:\n",
    "    if num in dict:\n",
    "        dict[num] = dict[num] + 1\n",
    "    else:\n",
    "        dict[num] = 1\n",
    "\n",
    "print(dict)\n",
    "largest = float(\"-inf\")\n",
    "ans = [-1,-1]\n",
    "for key in dict:\n",
    "    if dict[key] > largest:\n",
    "        largest = dict[key]\n",
    "        ans[0] = key\n",
    "        ans[1] = dict[key]\n",
    "\n",
    "print(ans)\n"
   ]
  },
  {
   "cell_type": "code",
   "execution_count": 107,
   "id": "01ee8e95",
   "metadata": {},
   "outputs": [
    {
     "name": "stdout",
     "output_type": "stream",
     "text": [
      "321\n"
     ]
    }
   ],
   "source": [
    "def reverse_num(num):\n",
    "    ans = 0\n",
    "    while (num > 0):\n",
    "        rem = num % 10\n",
    "        ans = ans * 10 + rem\n",
    "        num = num // 10\n",
    "    return ans\n",
    "\n",
    "num = 123\n",
    "print(reverse_num(num))"
   ]
  },
  {
   "cell_type": "code",
   "execution_count": 114,
   "id": "08c59d43",
   "metadata": {},
   "outputs": [
    {
     "name": "stdout",
     "output_type": "stream",
     "text": [
      "21\n"
     ]
    }
   ],
   "source": [
    "# lst = [1, [2, 3], [4, [5, 6]]]\n",
    "lst = [1, [2, 3], [4, [5, 6]]]\n",
    "\n",
    "def sum_of_the_list(lst):\n",
    "    sum = 0\n",
    "    for num in lst:\n",
    "        if type(num) == type(3):\n",
    "            sum += num\n",
    "        if type(num) == type([]):\n",
    "            sum += sum_of_the_list(num)\n",
    "    return sum\n",
    "\n",
    "def main(lst):\n",
    "    sum = 0\n",
    "    for num in lst:\n",
    "        if type(num) == type(3):\n",
    "            sum += num\n",
    "        if type(num) == type([]):\n",
    "            sum += sum_of_the_list(num)\n",
    "    return sum\n",
    "\n",
    "print(main(lst))\n"
   ]
  },
  {
   "cell_type": "code",
   "execution_count": 126,
   "id": "c24f5c05",
   "metadata": {},
   "outputs": [
    {
     "name": "stdout",
     "output_type": "stream",
     "text": [
      "28\n"
     ]
    }
   ],
   "source": [
    "lst = [1, [2, 3], [4, [5, [6 , 7]]]]\n",
    "\n",
    "\n",
    "def sum_of_the_list(lst):\n",
    "    # print(\"Function is called with this argument:\", lst)\n",
    "    sum = 0\n",
    "    for num in lst:\n",
    "        if type(num) == type(3):\n",
    "            sum += num\n",
    "        elif type(num) == type([]):\n",
    "            sum += sum_of_the_list(num)\n",
    "    return sum\n",
    "\n",
    "def main(lst):\n",
    "    sum = 0\n",
    "    for num in lst:\n",
    "        if type(num) == type(3):\n",
    "            sum += num\n",
    "        elif type(num) == type([]):\n",
    "            sum += sum_of_the_list(num)\n",
    "    return sum\n",
    "\n",
    "print(main(lst))"
   ]
  },
  {
   "cell_type": "code",
   "execution_count": null,
   "id": "81709a48",
   "metadata": {},
   "outputs": [],
   "source": []
  }
 ],
 "metadata": {
  "kernelspec": {
   "display_name": "Python 3",
   "language": "python",
   "name": "python3"
  },
  "language_info": {
   "codemirror_mode": {
    "name": "ipython",
    "version": 3
   },
   "file_extension": ".py",
   "mimetype": "text/x-python",
   "name": "python",
   "nbconvert_exporter": "python",
   "pygments_lexer": "ipython3",
   "version": "3.9.6"
  }
 },
 "nbformat": 4,
 "nbformat_minor": 5
}
