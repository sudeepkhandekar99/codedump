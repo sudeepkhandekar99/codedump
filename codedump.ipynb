{
 "cells": [
  {
   "cell_type": "code",
   "execution_count": null,
   "id": "56cfc24c",
   "metadata": {},
   "outputs": [
    {
     "name": "stdout",
     "output_type": "stream",
     "text": [
      "0.25\n"
     ]
    }
   ],
   "source": [
    "def raise_to(num, exp):\n",
    "    ans = 1\n",
    "    if exp == 0:\n",
    "        return 1\n",
    "    elif exp > 0:\n",
    "        while(exp > 0):\n",
    "            ans *= num\n",
    "            exp -=1\n",
    "    else:\n",
    "        while(exp < 0):\n",
    "            ans /= num\n",
    "            exp += 1 \n",
    "    return ans\n",
    "\n",
    "num, exp = 2, -2\n",
    "print(raise_to(num, exp))"
   ]
  },
  {
   "cell_type": "code",
   "execution_count": 85,
   "id": "25e1eedd",
   "metadata": {},
   "outputs": [
    {
     "name": "stdout",
     "output_type": "stream",
     "text": [
      "[3, 4]\n"
     ]
    }
   ],
   "source": [
    "lst1 = [1,2,3,4]\n",
    "lst2 = [3,4,5,6]\n",
    "\n",
    "\n",
    "def intersection(lst1, lst2):\n",
    "    ans = []\n",
    "    for num in lst1:\n",
    "        for val in lst2:\n",
    "            if val == num:\n",
    "                ans.append(num)\n",
    "                break\n",
    "    \n",
    "    return ans\n",
    "\n",
    "print(intersection(lst1, lst2))\n"
   ]
  },
  {
   "cell_type": "code",
   "execution_count": null,
   "id": "88b90b7f",
   "metadata": {},
   "outputs": [
    {
     "name": "stdout",
     "output_type": "stream",
     "text": [
      "[1, 2, 3, 4, 5, 6]\n"
     ]
    }
   ],
   "source": [
    "lst1 = [1,2,3,4]\n",
    "lst2 = [3,4,5,6]\n",
    "\n",
    "def is_in_list(num, lst):\n",
    "    for val in lst:\n",
    "        if val == num:\n",
    "            return True\n",
    "    return False\n",
    "\n",
    "def union(lst1,lst2):\n",
    "    ans = []\n",
    "    for num in lst1:\n",
    "        if is_in_list(num, ans): # method 1 for condition IF\n",
    "            pass # just to flex that you can use pass\n",
    "        else:\n",
    "            ans.append(num)\n",
    "\n",
    "    for num in lst2:\n",
    "        # if is_in_list(num, ans) == False: # method 2 (most popular)\n",
    "        if not is_in_list(num, ans): # method 3 (cheeky)\n",
    "            ans.append(num)\n",
    "            \n",
    "    return ans\n",
    "\n",
    "print(union(lst1,lst2))"
   ]
  },
  {
   "cell_type": "code",
   "execution_count": 8,
   "id": "6619f4bd",
   "metadata": {},
   "outputs": [
    {
     "name": "stdout",
     "output_type": "stream",
     "text": [
      "[2, 3]\n"
     ]
    }
   ],
   "source": [
    "lst = [1,2,2,3,3]\n",
    "\n",
    "dict = {}\n",
    "\n",
    "for num in lst:\n",
    "    if num in dict:\n",
    "        dict[num] = dict[num] + 1\n",
    "    else:\n",
    "        dict[num] = 1\n",
    "\n",
    "largest = float(\"-inf\")\n",
    "ans = -1\n",
    "final_ans = []\n",
    "for key in dict:\n",
    "    if dict[key] > largest:\n",
    "        largest = dict[key]\n",
    "        ans = dict[key]\n",
    "\n",
    "for key in dict:\n",
    "    if dict[key] == ans:\n",
    "        final_ans.append(key)\n",
    "\n",
    "print(final_ans)"
   ]
  },
  {
   "cell_type": "code",
   "execution_count": 4,
   "id": "01ee8e95",
   "metadata": {},
   "outputs": [
    {
     "name": "stdout",
     "output_type": "stream",
     "text": [
      "-321\n"
     ]
    }
   ],
   "source": [
    "def reverse_num(num):\n",
    "    is_neg = False\n",
    "    if num < 0:\n",
    "        is_neg = True\n",
    "        num = abs(num)\n",
    "\n",
    "    ans = 0\n",
    "    while (num > 0):\n",
    "        rem = num % 10\n",
    "        ans = ans * 10 + rem\n",
    "        num = num // 10\n",
    "    \n",
    "    if is_neg:\n",
    "        return -1 * ans\n",
    "    return ans\n",
    "\n",
    "num = -123\n",
    "print(reverse_num(num))"
   ]
  },
  {
   "cell_type": "code",
   "execution_count": 114,
   "id": "08c59d43",
   "metadata": {},
   "outputs": [
    {
     "name": "stdout",
     "output_type": "stream",
     "text": [
      "21\n"
     ]
    }
   ],
   "source": [
    "# lst = [1, [2, 3], [4, [5, 6]]]\n",
    "lst = [1, [2, 3], [4, [5, 6]]]\n",
    "\n",
    "def sum_of_the_list(lst):\n",
    "    sum = 0\n",
    "    for num in lst:\n",
    "        if type(num) == type(3):\n",
    "            sum += num\n",
    "        if type(num) == type([]):\n",
    "            sum += sum_of_the_list(num)\n",
    "    return sum\n",
    "\n",
    "def main(lst):\n",
    "    sum = 0\n",
    "    for num in lst:\n",
    "        if type(num) == type(3):\n",
    "            sum += num\n",
    "        if type(num) == type([]):\n",
    "            sum += sum_of_the_list(num)\n",
    "    return sum\n",
    "\n",
    "print(main(lst))\n"
   ]
  },
  {
   "cell_type": "code",
   "execution_count": 126,
   "id": "c24f5c05",
   "metadata": {},
   "outputs": [
    {
     "name": "stdout",
     "output_type": "stream",
     "text": [
      "28\n"
     ]
    }
   ],
   "source": [
    "lst = [1, [2, 3], [4, [5, [6 , 7]]]]\n",
    "\n",
    "\n",
    "def sum_of_the_list(lst):\n",
    "    # print(\"Function is called with this argument:\", lst)\n",
    "    sum = 0\n",
    "    for num in lst:\n",
    "        if type(num) == type(3):\n",
    "            sum += num\n",
    "        elif type(num) == type([]):\n",
    "            sum += sum_of_the_list(num)\n",
    "    return sum\n",
    "\n",
    "def main(lst):\n",
    "    sum = 0\n",
    "    for num in lst:\n",
    "        if type(num) == type(3):\n",
    "            sum += num\n",
    "        elif type(num) == type([]):\n",
    "            sum += sum_of_the_list(num)\n",
    "    return sum\n",
    "\n",
    "print(main(lst))"
   ]
  },
  {
   "cell_type": "code",
   "execution_count": null,
   "id": "81709a48",
   "metadata": {},
   "outputs": [
    {
     "name": "stdout",
     "output_type": "stream",
     "text": [
      "[1, 1, 2, 3, 4, 5, 6, 7, 8, 9]\n"
     ]
    }
   ],
   "source": [
    "#  Merge Two Sorted Lists\n",
    "lst1 = [1, 2, 4, 6]\n",
    "lst2 = [1, 3, 5, 7, 8, 9]\n",
    "# expected_ans = [1, 2, 3, 4, 5, 6, 7, 8, 9]\n",
    "\n",
    "ans = []\n",
    "idx_1, idx_2 = 0, 0\n",
    "sz_1, sz_2 = len(lst1), len(lst2)\n",
    "\n",
    "while(idx_1 < sz_1 and idx_2 < sz_2):\n",
    "    if lst1[idx_1] < lst2[idx_2]:\n",
    "        ans.append(lst1[idx_1])\n",
    "        idx_1 += 1\n",
    "    else:\n",
    "        ans.append(lst2[idx_2])\n",
    "        idx_2 += 1\n",
    "\n",
    "while idx_1 < sz_1:\n",
    "    ans.append(lst1[idx_1])\n",
    "    idx_1 += 1\n",
    "\n",
    "while idx_2 < sz_2:\n",
    "    ans.append(lst2[idx_2])\n",
    "    idx_2 += 1\n",
    "\n",
    "print(ans)"
   ]
  },
  {
   "cell_type": "code",
   "execution_count": 10,
   "id": "e473ae7d",
   "metadata": {},
   "outputs": [],
   "source": [
    "# abdul bari og video brooooo:\n",
    "# https://www.youtube.com/watch?v=0IAPZzGSbME&list=PLDN4rrl48XKpZkf03iYFl-O29szjTrs_O"
   ]
  },
  {
   "cell_type": "code",
   "execution_count": null,
   "id": "f45f9c91",
   "metadata": {},
   "outputs": [
    {
     "name": "stdout",
     "output_type": "stream",
     "text": [
      "[[1], [1, 1], [1, 2, 1], [1, 3, 3, 1], [1, 4, 6, 4, 1]]\n"
     ]
    }
   ],
   "source": [
    "# Generate a Pascal’s Triangle\n",
    "\n",
    "def pascal_triangle(row):\n",
    "    if row <= 0:\n",
    "        return \"Invalid input\"\n",
    "    elif row == 1:\n",
    "        return [[1]]\n",
    "    elif row == 2:\n",
    "        return [[1], [1,1]]\n",
    "\n",
    "    curr_row = 2\n",
    "    curr_tri = [[1], [1,1]]\n",
    "    prev = curr_tri[-1]\n",
    "\n",
    "    while (curr_row < row):\n",
    "        temp = []\n",
    "        temp.append(1)\n",
    "        for i in range(len(prev)-1):\n",
    "            val = prev[i] + prev[i+1]\n",
    "            temp.append(val)\n",
    "        temp.append(1)\n",
    "        curr_tri.append(temp)\n",
    "        prev = temp\n",
    "        curr_row += 1\n",
    "    \n",
    "    return curr_tri\n",
    "\n",
    "print(pascal_triangle(5))  "
   ]
  },
  {
   "cell_type": "code",
   "execution_count": null,
   "id": "ae37e7de",
   "metadata": {},
   "outputs": [
    {
     "name": "stdout",
     "output_type": "stream",
     "text": [
      "a\n"
     ]
    }
   ],
   "source": [
    "# Find the First Non-Repeating Character in a String\n",
    "def non_repeating(word):\n",
    "    word = word.lower()\n",
    "    sz = len(word)\n",
    "    \n",
    "    for i in range(sz):\n",
    "        count = 0\n",
    "        for j in range(sz):\n",
    "            if i != j and word[i] == word[j]:\n",
    "                count += 1\n",
    "        if count == 0:\n",
    "            return word[i]\n",
    "    \n",
    "    return '-1'\n",
    "\n",
    "word = 'abbc'\n",
    "print(non_repeating(word))"
   ]
  },
  {
   "cell_type": "code",
   "execution_count": 51,
   "id": "5809e41d",
   "metadata": {},
   "outputs": [
    {
     "name": "stdout",
     "output_type": "stream",
     "text": [
      "Reverse full: [5, 4, 3, 2, 1]\n",
      "Partial left reverse: [4, 5, 3, 2, 1]\n",
      "Partial right reverse: [4, 5, 1, 2, 3]\n",
      "[4, 5, 1, 2, 3]\n"
     ]
    }
   ],
   "source": [
    "# Rotate an Array to the Right by k Steps\n",
    "'''\n",
    "[1, 2, 3, 4 ,5]\n",
    "[5, 4, 3, 2, 1] # complete reverse\n",
    "[4, 5, 3, 2, 1] # partial reverse to the left of the pivot k = 2\n",
    "[4, 5, 1, 2, 3] # partial reverse to the right of the pivot k = 2\n",
    "'''\n",
    "\n",
    "def reverse_num(start, end, lst):\n",
    "    while(start < end):\n",
    "        lst[start], lst[end] = lst[end], lst[start]\n",
    "        start += 1\n",
    "        end -= 1\n",
    "    return lst\n",
    "\n",
    "def rotate_list(lst, k):\n",
    "    sz = len(lst)\n",
    "    k = k % sz\n",
    "    lst = reverse_num(0, sz-1, lst)\n",
    "    print(\"Reverse full:\",lst)\n",
    "    lst = reverse_num(0, k-1, lst)\n",
    "    print(\"Partial left reverse:\",lst)\n",
    "    lst = reverse_num(k, sz-1, lst)\n",
    "    print(\"Partial right reverse:\",lst)\n",
    "\n",
    "    return lst\n",
    "\n",
    "def rotate_list_easy(lst, k):\n",
    "    # This method simply builds a new list (bascially using O(n) space)\n",
    "\n",
    "    ans = []\n",
    "    sz = len(lst)\n",
    "    k %= sz\n",
    "\n",
    "    for i in range(k+1, sz):\n",
    "        ans.append(lst[i])\n",
    "    \n",
    "    for i in range(0, k+1):\n",
    "        ans.append(lst[i])\n",
    "\n",
    "    return ans\n",
    "\n",
    "# print(rotate_list_easy([1, 2, 3, 4, 5], 2))  # ineffecient \n",
    "print(rotate_list([1, 2, 3, 4, 5], 2))  # effecient"
   ]
  },
  {
   "cell_type": "code",
   "execution_count": 54,
   "id": "ef3f7d92",
   "metadata": {},
   "outputs": [
    {
     "name": "stdout",
     "output_type": "stream",
     "text": [
      " ['a', 'b', 'c']\n",
      "a ['b', 'c']\n",
      "ab ['c']\n",
      "abc []\n",
      "ac ['b']\n",
      "acb []\n",
      "b ['a', 'c']\n",
      "ba ['c']\n",
      "bac []\n",
      "bc ['a']\n",
      "bca []\n",
      "c ['a', 'b']\n",
      "ca ['b']\n",
      "cab []\n",
      "cb ['a']\n",
      "cba []\n",
      "['abc', 'acb', 'bac', 'bca', 'cab', 'cba']\n"
     ]
    }
   ],
   "source": [
    "ans = []\n",
    "\n",
    "def rec_function(current_word, options):\n",
    "    print(current_word, options)\n",
    "    if len(options) == 0:\n",
    "        ans.append(current_word)\n",
    "        return\n",
    "    \n",
    "    for i in range(len(options)):\n",
    "        next_word = current_word + options[i]\n",
    "        remaining = options[:i] + options[i+1:]\n",
    "        rec_function(next_word, remaining)\n",
    "\n",
    "options = ['a', 'b', 'c']\n",
    "rec_function(\"\", options)\n",
    "print(ans)  "
   ]
  },
  {
   "cell_type": "code",
   "execution_count": null,
   "id": "52e4caf7",
   "metadata": {},
   "outputs": [
    {
     "name": "stdout",
     "output_type": "stream",
     "text": [
      "[2, 4, 6]\n",
      "[2, 4, 6]\n"
     ]
    }
   ],
   "source": [
    "lst1 = [1, 2, 4, 6] # size n\n",
    "lst2 = [2, 4, 5, 6] # size m\n",
    "\n",
    "def method1(lst1, lst2):\n",
    "    # this method uses a double pass that is in O(n*m) time\n",
    "    ans = []\n",
    "\n",
    "    for ele in lst1:\n",
    "        for elm in lst2:\n",
    "            if ele == elm:\n",
    "                ans.append(ele)\n",
    "                break # break here to short your code. it is always appreciated. \n",
    "    \n",
    "    return ans\n",
    "\n",
    "print(method1(lst1, lst2))\n",
    "\n",
    "\n",
    "# now we use the power of two pointers to solve this question in a single pass O(max(n, m)) time\n",
    "def method2(lst1, lst2):\n",
    "    ans = []\n",
    "    idx_1, idx_2 = 0, 0\n",
    "    sz_1, sz_2 = len(lst1), len(lst2)\n",
    "\n",
    "    while idx_1 < sz_1 and idx_2 < sz_2:\n",
    "        if lst1[idx_1] == lst2[idx_2]:\n",
    "            ans.append(lst1[idx_1])\n",
    "            idx_1 += 1\n",
    "            idx_2 += 1\n",
    "        elif lst1[idx_1] < lst2[idx_2]:\n",
    "            idx_1 += 1\n",
    "        else:\n",
    "            idx_2 += 1\n",
    "\n",
    "\n",
    "    return ans\n",
    "\n",
    "print(method2(lst1, lst2))\n"
   ]
  },
  {
   "cell_type": "code",
   "execution_count": null,
   "id": "7afc991d",
   "metadata": {},
   "outputs": [
    {
     "name": "stdout",
     "output_type": "stream",
     "text": [
      "11\n"
     ]
    }
   ],
   "source": [
    "sentence = \"Python is a great programming\"\n",
    "\n",
    "def find_max_word_length(sentence):\n",
    "    ans, count = 0, 0\n",
    "\n",
    "    for i in sentence:\n",
    "        if i == \" \":\n",
    "            ans = max(ans, count)\n",
    "            count = 0\n",
    "        else:\n",
    "            count += 1\n",
    "        \n",
    "    ans = max(ans, count) # if this line is not added, the last word is not considered in ans because ans = max(ans, count) is never triggered in the loop\n",
    "\n",
    "    return ans\n",
    "\n",
    "print(find_max_word_length(sentence))"
   ]
  },
  {
   "cell_type": "code",
   "execution_count": 16,
   "id": "6b5f431c",
   "metadata": {},
   "outputs": [
    {
     "name": "stdout",
     "output_type": "stream",
     "text": [
      "[[1, 2, 3], [1, 2], [1, 3], [1], [2, 3], [2], [3], []]\n"
     ]
    }
   ],
   "source": [
    "ans = []\n",
    "\n",
    "def power_set(options, index, curr):\n",
    "    if index == len(options):\n",
    "        ans.append(curr[:])  # Make a copy of curr\n",
    "        return\n",
    "    # Include the current element\n",
    "    curr.append(options[index])\n",
    "    power_set(options, index + 1, curr)\n",
    "    curr.pop()  # Backtrack\n",
    "    # Exclude the current element\n",
    "    power_set(options, index + 1, curr)\n",
    "\n",
    "power_set([1, 2, 3], 0, [])\n",
    "print(ans)\n"
   ]
  },
  {
   "cell_type": "code",
   "execution_count": null,
   "id": "1d7a134f",
   "metadata": {},
   "outputs": [
    {
     "name": "stdout",
     "output_type": "stream",
     "text": [
      "4\n",
      "4\n"
     ]
    }
   ],
   "source": [
    "lst = [1, 2, 3, 5]\n",
    "\n",
    "def missing_number(lst):\n",
    "    for i in range(len(lst)): # this goes for n times\n",
    "        val = i + 1 \n",
    "        if val not in lst: # this also goes for n times. therefore, the total TC of the algorithm is O(n^2)\n",
    "            return val\n",
    "    return val + 1\n",
    "\n",
    "print(missing_number(lst))\n",
    "\n",
    "def missing_number_op(lst):\n",
    "    # in the more optimized method, we will try to do this in a single pass\n",
    "    # to achieve this, we use a simple mathematical tool\n",
    "    # i. e. sum of all natural nums till n is n*(n+1)//2\n",
    "    sum = 0\n",
    "    sz = len(lst)\n",
    "\n",
    "    for num in lst:\n",
    "        sum += num\n",
    "\n",
    "    natural_sum = ((sz + 2) * (sz + 1)) // 2\n",
    "\n",
    "    return natural_sum - sum\n",
    "\n",
    "\n",
    "print(missing_number_op(lst))"
   ]
  },
  {
   "cell_type": "code",
   "execution_count": 30,
   "id": "906ccff0",
   "metadata": {},
   "outputs": [
    {
     "name": "stdout",
     "output_type": "stream",
     "text": [
      "5\n",
      "3\n"
     ]
    }
   ],
   "source": [
    "def majority_element(lst):\n",
    "    # although this is a single pass solution, we cannot optimize the time here\n",
    "    # BUT we do use extra space to store the frequency of the elements\n",
    "    # now, that can be optimized beautifully \n",
    "    ans = {}\n",
    "    for num in lst:\n",
    "        if num in ans:\n",
    "            ans[num] = ans[num] + 1\n",
    "        else:\n",
    "            ans[num] = 1\n",
    "    \n",
    "    max_ans = 0\n",
    "    for key in ans:\n",
    "        if ans[key] > max_ans:\n",
    "            max_ans = ans[key]\n",
    "    return max_ans\n",
    "\n",
    "print(majority_element([3, 3, 4, 2, 3, 3, 3]))\n",
    "\n",
    "def majority_element_op(lst):\n",
    "    curr = lst[0]\n",
    "    count = 1\n",
    "    \n",
    "    for i in range(1, len(lst)):\n",
    "        ele = lst[i]\n",
    "        if curr == ele:\n",
    "            count += 1\n",
    "        else:\n",
    "            count -= 1\n",
    "            if count == 0:\n",
    "                curr = ele\n",
    "                count = 1  # Reset count for new candidate\n",
    "    \n",
    "    # Optional: Confirm the candidate is indeed majority\n",
    "    if lst.count(curr) > len(lst) // 2:\n",
    "        return curr\n",
    "    else:\n",
    "        return None  # No majority element\n",
    "\n",
    "print(majority_element_op([3, 3, 4, 2, 3, 3, 3]))"
   ]
  },
  {
   "cell_type": "code",
   "execution_count": null,
   "id": "d1ff41c7",
   "metadata": {},
   "outputs": [],
   "source": []
  }
 ],
 "metadata": {
  "kernelspec": {
   "display_name": "Python 3",
   "language": "python",
   "name": "python3"
  },
  "language_info": {
   "codemirror_mode": {
    "name": "ipython",
    "version": 3
   },
   "file_extension": ".py",
   "mimetype": "text/x-python",
   "name": "python",
   "nbconvert_exporter": "python",
   "pygments_lexer": "ipython3",
   "version": "3.9.6"
  }
 },
 "nbformat": 4,
 "nbformat_minor": 5
}
